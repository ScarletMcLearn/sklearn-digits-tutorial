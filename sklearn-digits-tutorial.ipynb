{
 "metadata": {
  "name": "",
  "signature": "sha256:0490312fe7c104a7fbf7c014537a989b636b5f04d3f39d8aa4c05ef3318489ab"
 },
 "nbformat": 3,
 "nbformat_minor": 0,
 "worksheets": [
  {
   "cells": [
    {
     "cell_type": "heading",
     "level": 1,
     "metadata": {},
     "source": [
      "Scikit-learn digits tutorial"
     ]
    },
    {
     "cell_type": "markdown",
     "metadata": {},
     "source": [
      "This is a tutorial based very closely on the [scikit-learn tutorial](http://scikit-learn.org/stable/tutorial/basic/tutorial.html), but formatted as a [Jupyter notebook](http://jupyter.org), with plenty of comments.\n",
      "\n",
      "The aim is to teach your computer to recognise digits. We'll used the \"digits\" dataset that's built into scikit-learn, using most of it to train the system, and the remainder to test it. At the end we'll also see how to make our own images and see how they're recognised.\n",
      "\n",
      "Installing the necessary packages for Linux should be quite easy. For Ubuntu 16.04, for example, you need to run `sudo apt-get install python3-sklearn ipython3-notebook`, and that should install scikit-learn, scipy, numpy, and also Jupyter Notebooks (which used to be called ipython notebooks). For Windows, the easiest option is to install the full version of [Anaconda](https://www.continuum.io/downloads), which includes virtually everything you need."
     ]
    },
    {
     "cell_type": "heading",
     "level": 2,
     "metadata": {},
     "source": [
      "Loading the \"digits\" set and having a look"
     ]
    },
    {
     "cell_type": "markdown",
     "metadata": {},
     "source": [
      "The first step is to load the digits dataset and see what it looks like. In the cell below (each of these little fragments of python is called a *cell* in Jupyter) we import the scikit-learn package, called `sklearn`, and load the digits dataset, storing them in the variable `digits`, which we'll refer to throughout the rest of the code.\n",
      "\n",
      "There are three main attributes in `digits`:\n",
      "* `digits.images`: This a list of two-dimensional arrays, where each two-dimensional array is a picture of a number. Each image in this dataset is an 8\u00d78 pixel image, with the values ranging from 0 to 15.\n",
      "* `digits.data`: This is a list much like `digits.images`, but the two-dimensional 8\u00d78 array has been \"flattened\" into a one-dimensional array 64 entries long.\n",
      "* `digits.target`: This is a list of numbers. Each entry here corresponds to an entry in `digits.images` and `digits.data`, and says what number was drawn in each image."
     ]
    },
    {
     "cell_type": "code",
     "collapsed": false,
     "input": [
      "from sklearn import datasets\n",
      "digits = datasets.load_digits()\n",
      "\n",
      "# Lets look at the first three entries\n",
      "print(digits.images[:3])\n",
      "print(digits.data[:3])\n",
      "print(digits.target[:3])"
     ],
     "language": "python",
     "metadata": {},
     "outputs": [
      {
       "output_type": "stream",
       "stream": "stdout",
       "text": [
        "[[[  0.   0.   5.  13.   9.   1.   0.   0.]\n",
        "  [  0.   0.  13.  15.  10.  15.   5.   0.]\n",
        "  [  0.   3.  15.   2.   0.  11.   8.   0.]\n",
        "  [  0.   4.  12.   0.   0.   8.   8.   0.]\n",
        "  [  0.   5.   8.   0.   0.   9.   8.   0.]\n",
        "  [  0.   4.  11.   0.   1.  12.   7.   0.]\n",
        "  [  0.   2.  14.   5.  10.  12.   0.   0.]\n",
        "  [  0.   0.   6.  13.  10.   0.   0.   0.]]\n",
        "\n",
        " [[  0.   0.   0.  12.  13.   5.   0.   0.]\n",
        "  [  0.   0.   0.  11.  16.   9.   0.   0.]\n",
        "  [  0.   0.   3.  15.  16.   6.   0.   0.]\n",
        "  [  0.   7.  15.  16.  16.   2.   0.   0.]\n",
        "  [  0.   0.   1.  16.  16.   3.   0.   0.]\n",
        "  [  0.   0.   1.  16.  16.   6.   0.   0.]\n",
        "  [  0.   0.   1.  16.  16.   6.   0.   0.]\n",
        "  [  0.   0.   0.  11.  16.  10.   0.   0.]]\n",
        "\n",
        " [[  0.   0.   0.   4.  15.  12.   0.   0.]\n",
        "  [  0.   0.   3.  16.  15.  14.   0.   0.]\n",
        "  [  0.   0.   8.  13.   8.  16.   0.   0.]\n",
        "  [  0.   0.   1.   6.  15.  11.   0.   0.]\n",
        "  [  0.   1.   8.  13.  15.   1.   0.   0.]\n",
        "  [  0.   9.  16.  16.   5.   0.   0.   0.]\n",
        "  [  0.   3.  13.  16.  16.  11.   5.   0.]\n",
        "  [  0.   0.   0.   3.  11.  16.   9.   0.]]]\n",
        "[[  0.   0.   5.  13.   9.   1.   0.   0.   0.   0.  13.  15.  10.  15.\n",
        "    5.   0.   0.   3.  15.   2.   0.  11.   8.   0.   0.   4.  12.   0.\n",
        "    0.   8.   8.   0.   0.   5.   8.   0.   0.   9.   8.   0.   0.   4.\n",
        "   11.   0.   1.  12.   7.   0.   0.   2.  14.   5.  10.  12.   0.   0.\n",
        "    0.   0.   6.  13.  10.   0.   0.   0.]\n",
        " [  0.   0.   0.  12.  13.   5.   0.   0.   0.   0.   0.  11.  16.   9.\n",
        "    0.   0.   0.   0.   3.  15.  16.   6.   0.   0.   0.   7.  15.  16.\n",
        "   16.   2.   0.   0.   0.   0.   1.  16.  16.   3.   0.   0.   0.   0.\n",
        "    1.  16.  16.   6.   0.   0.   0.   0.   1.  16.  16.   6.   0.   0.\n",
        "    0.   0.   0.  11.  16.  10.   0.   0.]\n",
        " [  0.   0.   0.   4.  15.  12.   0.   0.   0.   0.   3.  16.  15.  14.\n",
        "    0.   0.   0.   0.   8.  13.   8.  16.   0.   0.   0.   0.   1.   6.\n",
        "   15.  11.   0.   0.   0.   1.   8.  13.  15.   1.   0.   0.   0.   9.\n",
        "   16.  16.   5.   0.   0.   0.   0.   3.  13.  16.  16.  11.   5.   0.\n",
        "    0.   0.   0.   3.  11.  16.   9.   0.]]\n",
        "[0 1 2]\n"
       ]
      }
     ],
     "prompt_number": 1
    },
    {
     "cell_type": "code",
     "collapsed": false,
     "input": [
      "# How may are there altogether?\n",
      "print(len(digits.images))"
     ],
     "language": "python",
     "metadata": {},
     "outputs": [
      {
       "output_type": "stream",
       "stream": "stdout",
       "text": [
        "1797\n"
       ]
      }
     ],
     "prompt_number": 2
    },
    {
     "cell_type": "heading",
     "level": 2,
     "metadata": {},
     "source": [
      "Visualising the digits"
     ]
    },
    {
     "cell_type": "markdown",
     "metadata": {},
     "source": [
      "If you lean back and squint a bit, you can sort-of see the shapes of the digits 0, 1, 2 in the 8\u00d78 arrays above. Fortunately with Jupyter we can use it's support for [matplotlib](http://matplotlib.org/) to display them within the notebook.\n",
      "\n",
      "So, below we tell Jupyter to display images \"inline\" in the Notebook. We'll display one of the images raw data, then display it as an image, and finally display the \"target\" value (which tells us what it's supposed to be). You can change the `num` variable to choose a different number from the list. Remember from the cell above, there are 1797 images to look at, so you can change `num` to anything from 0 to 1796 inclusive, and re-run the cell. (You can re-run the cell be selecting \"Run\" from the \"Cell\" menu above, or by pressing Ctrl-Enter.)"
     ]
    },
    {
     "cell_type": "code",
     "collapsed": false,
     "input": [
      "%matplotlib inline\n",
      "import matplotlib.pyplot as plt\n",
      "\n",
      "# This is the entry from the list we'll look at\n",
      "num=1010\n",
      "\n",
      "# First, see what the digit is\n",
      "print(digits.target[num])\n",
      "# Next look at the image as a two-dimensional array\n",
      "print(digits.images[num])\n",
      "# Next, display it as an image.\n",
      "# We use the \"cmap\" option to set the colours to a grayscale palette, from black to white\n",
      "plt.imshow(digits.images[num], cmap=plt.cm.gray)\n",
      "plt.show()"
     ],
     "language": "python",
     "metadata": {},
     "outputs": [
      {
       "output_type": "stream",
       "stream": "stdout",
       "text": [
        "5\n",
        "[[  0.   0.   9.  12.  12.  12.   6.   0.]\n",
        " [  0.   1.  14.   6.   4.   4.   2.   0.]\n",
        " [  0.   4.  15.  12.   9.   1.   0.   0.]\n",
        " [  0.   4.  15.   8.  11.  11.   0.   0.]\n",
        " [  0.   0.   1.   0.   0.  14.   4.   0.]\n",
        " [  0.   0.   0.   0.   0.  10.   8.   0.]\n",
        " [  0.   0.  10.   1.   0.   8.   8.   0.]\n",
        " [  0.   0.   9.  16.  16.  15.   4.   0.]]\n"
       ]
      },
      {
       "metadata": {},
       "output_type": "display_data",
       "png": "[encoded data removed]",
       "text": [
        "<matplotlib.figure.Figure at 0x7f4ccbf16e48>"
       ]
      }
     ],
     "prompt_number": 3
    },
    {
     "cell_type": "heading",
     "level": 2,
     "metadata": {},
     "source": [
      "Training the system"
     ]
    },
    {
     "cell_type": "markdown",
     "metadata": {},
     "source": [
      "Okay, we've seen what the data looks like, and (I think) it's fairly straightforward. What we need to do now is to use the data to train the system.\n",
      "\n",
      "There are a few different types of machine learning. In this case we're using \"supervised learning\", which means we're teaching it with data we already know the answer to. (\"Unsupervised learning\" means you want the system to try to identify patterns in the data by itself). In particular, this is a classification problem; we know there are ten possible answers, or classifications, and we want the system to \"classify\" each sample it's given into one of these.\n",
      "\n",
      "We have 1797 entries in total. We'll use the first 1700 entries as our \"training set\", to train the system with it. The final 97 will be our \"testing set\", which we can use to see how well our system works.\n",
      "\n",
      "We'll use a standard scikit-learn [support vector machine](https://en.wikipedia.org/wiki/Support_vector_machine) as our classifier, which we'll call `clf`, and for simplicity set as few options as possible. We need to use `digits.data` rather than `digits.images`, as a vector classifier uses a one-dimensional array instead of a two-dimensional one."
     ]
    },
    {
     "cell_type": "code",
     "collapsed": false,
     "input": [
      "from sklearn import svm\n",
      "# Create the classifier\n",
      "clf = svm.SVC(gamma=0.001, probability=True)\n",
      "# \"Fit\" the model with our sample data, the first\n",
      "clf.fit(digits.data[:1700], digits.target[:1700])"
     ],
     "language": "python",
     "metadata": {},
     "outputs": [
      {
       "metadata": {},
       "output_type": "pyout",
       "prompt_number": 4,
       "text": [
        "SVC(C=1.0, cache_size=200, class_weight=None, coef0=0.0,\n",
        "  decision_function_shape=None, degree=3, gamma=0.001, kernel='rbf',\n",
        "  max_iter=-1, probability=True, random_state=None, shrinking=True,\n",
        "  tol=0.001, verbose=False)"
       ]
      }
     ],
     "prompt_number": 4
    },
    {
     "cell_type": "heading",
     "level": 3,
     "metadata": {},
     "source": [
      "What were those two options to `svm.SVC`?"
     ]
    },
    {
     "cell_type": "markdown",
     "metadata": {},
     "source": [
      "* **gamma**, along with an option we didn't use, **C**, are used to control how the classifier handles the samples. It could roughly be described as how much each sample affects the classifier, and how complex the training model might end up. There's an [entire page about it](http://scikit-learn.org/stable/auto_examples/svm/plot_rbf_parameters.html), and if you look at the heat map at the bottom of that page you can see it's a bit of an art to select the best pair of settings. In many cases you might spend a while with trial-and-error looking for a good combination. For a quick sample, though, `gamma=0.001` works well enough for this particular problem.\n",
      "* **probability** tells the system we want to see the \"probability estimates\". This is off by default because it slows things down, but we're working with a relatively small set of fairly small samples, so it's not a problem. We'll see later how we can see these probability figures.\n",
      "\n",
      "To see the other options for svm.SVC, see [the svm.SVC documentation](http://scikit-learn.org/stable/modules/generated/sklearn.svm.SVC.html)"
     ]
    },
    {
     "cell_type": "heading",
     "level": 2,
     "metadata": {},
     "source": [
      "Testing the model"
     ]
    },
    {
     "cell_type": "markdown",
     "metadata": {},
     "source": [
      "We've trained our model, so how do we test it?\n",
      "\n",
      "We used the first 1700 entries to train the model, so we'll use the remaining entries to test it. We'll make a list of the expected answers, and we'll use `clf.predict` to ask the classifier to predict the right answers. We'll print out the expected and predicted answers to the screen so we can see at a glance how well it works."
     ]
    },
    {
     "cell_type": "code",
     "collapsed": false,
     "input": [
      "expected = digits.target[1700:]\n",
      "print(expected)\n",
      "\n",
      "predicted = clf.predict(digits.data[1700:])\n",
      "print(predicted)"
     ],
     "language": "python",
     "metadata": {},
     "outputs": [
      {
       "output_type": "stream",
       "stream": "stdout",
       "text": [
        "[5 6 5 0 9 8 9 8 4 1 7 7 3 5 1 0 0 2 2 7 8 2 0 1 2 6 3 3 7 3 3 4 6 6 6 4 9\n",
        " 1 5 0 9 5 2 8 2 0 0 1 7 6 3 2 1 7 4 6 3 1 3 9 1 7 6 8 4 3 1 4 0 5 3 6 9 6\n",
        " 1 7 5 4 4 7 2 8 2 2 5 7 9 5 4 8 8 4 9 0 8 9 8]\n",
        "[5 6 5 0 9 8 9 8 4 1 7 7 3 5 1 0 0 2 2 7 8 2 0 1 2 6 3 8 7 5 3 4 6 6 6 4 9\n",
        " 1 5 0 9 5 2 8 2 0 0 1 7 6 3 2 1 7 4 6 3 1 3 9 1 7 6 8 4 3 1 4 0 5 3 6 9 6\n",
        " 1 7 5 4 4 7 2 8 2 2 5 7 9 5 4 8 8 4 9 0 8 9 8]\n"
       ]
      }
     ],
     "prompt_number": 5
    },
    {
     "cell_type": "heading",
     "level": 2,
     "metadata": {},
     "source": [
      "Reviewing the results"
     ]
    },
    {
     "cell_type": "markdown",
     "metadata": {},
     "source": [
      "Unless you've changed the parameters to `svm.SVC` (which I encourage you to try!) you'll see the two lists look almost exactly the same. But can we get a proper summary? Of course we can! People need to do this all the time, and fortunately scikit-learn has built-in features that suit us perfectly, and we'll get these from the `metrics` module in `sklearn`."
     ]
    },
    {
     "cell_type": "heading",
     "level": 3,
     "metadata": {},
     "source": [
      "Classification report"
     ]
    },
    {
     "cell_type": "code",
     "collapsed": false,
     "input": [
      "from sklearn import metrics\n",
      "print(metrics.classification_report(expected, predicted))"
     ],
     "language": "python",
     "metadata": {},
     "outputs": [
      {
       "output_type": "stream",
       "stream": "stdout",
       "text": [
        "             precision    recall  f1-score   support\n",
        "\n",
        "          0       1.00      1.00      1.00         9\n",
        "          1       1.00      1.00      1.00        10\n",
        "          2       1.00      1.00      1.00        10\n",
        "          3       1.00      0.80      0.89        10\n",
        "          4       1.00      1.00      1.00        10\n",
        "          5       0.90      1.00      0.95         9\n",
        "          6       1.00      1.00      1.00        10\n",
        "          7       1.00      1.00      1.00        10\n",
        "          8       0.91      1.00      0.95        10\n",
        "          9       1.00      1.00      1.00         9\n",
        "\n",
        "avg / total       0.98      0.98      0.98        97\n",
        "\n"
       ]
      }
     ],
     "prompt_number": 6
    },
    {
     "cell_type": "markdown",
     "metadata": {},
     "source": [
      "What do these mean? They're [fully documented](http://scikit-learn.org/stable/modules/generated/sklearn.metrics.precision_recall_fscore_support.html), but a summary is below.\n",
      "\n",
      "Each possible digit is listed down the left-hand side, and the four headings mean:\n",
      "\n",
      "**precision**: What proportion of predicted values were correct. A value of 1 means every time that number was predicted, it was correct.\n",
      "\n",
      "**recall**: What proportion of expected values were correctly found. A value of 1 this time means that every instance of this number was found.\n",
      "\n",
      "**f1-score**: Average of *precision* and *recall*\n",
      "\n",
      "**support**: How many occurrences of this value were *expected*"
     ]
    },
    {
     "cell_type": "heading",
     "level": 3,
     "metadata": {},
     "source": [
      "Confusion matrix"
     ]
    },
    {
     "cell_type": "code",
     "collapsed": false,
     "input": [
      "print(metrics.confusion_matrix(expected, predicted))"
     ],
     "language": "python",
     "metadata": {},
     "outputs": [
      {
       "output_type": "stream",
       "stream": "stdout",
       "text": [
        "[[ 9  0  0  0  0  0  0  0  0  0]\n",
        " [ 0 10  0  0  0  0  0  0  0  0]\n",
        " [ 0  0 10  0  0  0  0  0  0  0]\n",
        " [ 0  0  0  8  0  1  0  0  1  0]\n",
        " [ 0  0  0  0 10  0  0  0  0  0]\n",
        " [ 0  0  0  0  0  9  0  0  0  0]\n",
        " [ 0  0  0  0  0  0 10  0  0  0]\n",
        " [ 0  0  0  0  0  0  0 10  0  0]\n",
        " [ 0  0  0  0  0  0  0  0 10  0]\n",
        " [ 0  0  0  0  0  0  0  0  0  9]]\n"
       ]
      }
     ],
     "prompt_number": 7
    },
    {
     "cell_type": "markdown",
     "metadata": {},
     "source": [
      "For each classification (digit in our case) there is a row and a column. Each row shows the results for an expected value. Each column represents how many times that value was predicted.\n",
      "\n",
      "In the ideal case all non-zero values will be along the diagonal, which means that every expected value was predicted. At the default settings with `gamma=0.001`, you'll see on the fourth row this isn't the case. Since the first row corresponds to the digit \"0\", the fourth row corresponds to the digit \"3\". We can see 8 times the digit \"3\" was predicted to be \"3\", which is good. But further along we can see once it was predicted to be \"5\", and once it was predicted to be \"8\". All the rest were correct!"
     ]
    },
    {
     "cell_type": "heading",
     "level": 3,
     "metadata": {},
     "source": [
      "Identifying which were wrong"
     ]
    },
    {
     "cell_type": "markdown",
     "metadata": {},
     "source": [
      "Since we only have two values wrong, we might as well take a look at them and see. This loop compares `expected` to `predicted`, identifies the different entries and displays the corresponding images. This loop displays *every* wrong image. Beware running it if there are many wrong entries!"
     ]
    },
    {
     "cell_type": "code",
     "collapsed": false,
     "input": [
      "for index, (expect, predict) in enumerate(zip(expected,predicted)):\n",
      "    if expect != predict:\n",
      "        print(\"Image {}: expected {}, predicted {}\".format(index+1700, expect, predict)) \n",
      "        plt.imshow(digits.images[index+1700], cmap=plt.cm.gray)\n",
      "        plt.show()"
     ],
     "language": "python",
     "metadata": {},
     "outputs": [
      {
       "output_type": "stream",
       "stream": "stdout",
       "text": [
        "Image 1727: expected 3, predicted 8\n"
       ]
      },
      {
       "metadata": {},
       "output_type": "display_data",
       "png": "[encoded data removed]",
       "text": [
        "<matplotlib.figure.Figure at 0x7f4cc8ff1fd0>"
       ]
      },
      {
       "output_type": "stream",
       "stream": "stdout",
       "text": [
        "Image 1729: expected 3, predicted 5\n"
       ]
      },
      {
       "metadata": {},
       "output_type": "display_data",
       "png": "[encoded data removed]",
       "text": [
        "<matplotlib.figure.Figure at 0x7f4ccbc08cf8>"
       ]
      }
     ],
     "prompt_number": 8
    },
    {
     "cell_type": "heading",
     "level": 2,
     "metadata": {},
     "source": [
      "Trying your own images"
     ]
    },
    {
     "cell_type": "markdown",
     "metadata": {},
     "source": [
      "We've trained our system, tested it, and checked out where it went wrong.\n",
      "\n",
      "Of course, what we really want to do is try drawing our own images and see how it goes.\n",
      "\n",
      "Using any image drawing program you like, create a square image and draw a number with reasonably thick lines. For my test image I created a 200\u00d7200 image with a 35-pixel brush and saved it as `test.png`.\n",
      "\n",
      "What do we need to do? We need to transform our own image to exactly match the format expected by our trained system. It needs to match:\n",
      "* **Shape and size**: the original image must be square\n",
      "* **Size**: it must be 8\u00d78 pixels\n",
      "* **Colour**: White on a black background, in other words, zero represents the background, higher numbers represent the writing\n",
      "* **Input format**: the input to the classifier is changed to a one-dimensional array 64 units long\n",
      "* **Value range**: The numbers must be in the same range as the training set, from 0 to 15.\n",
      "\n",
      "We will use [SciPy](https://www.scipy.org/) to load and manipulate the image, and [NumPy](http://www.numpy.org/) to rearrange the data."
     ]
    },
    {
     "cell_type": "code",
     "collapsed": false,
     "input": [
      "import numpy, scipy\n",
      "\n",
      "# Load the image file. Place it in the same folder as your Jupyter notebook, or\n",
      "# else enter the full path. Ours is called \"test.png\".\n",
      "# flatten=True causes the image colours to be \"flattened\" into greyscale\n",
      "testimage = scipy.misc.imread(\"test.png\", flatten=True)\n",
      "\n",
      "# If your image is black on white when it should be white on black, you can\n",
      "# invert the colours by uncommenting the following line:\n",
      "#testimage = 1 - testimage\n",
      "\n",
      "print(\"Original image\")\n",
      "plt.imshow(testimage, cmap=plt.cm.gray)\n",
      "plt.show()\n",
      "\n",
      "print(\"Resized image\")\n",
      "testimage = scipy.misc.imresize(testimage, (8,8))\n",
      "plt.imshow(testimage, cmap=plt.cm.gray)\n",
      "plt.show()\n",
      "\n",
      "print(\"Raw data:\", testimage)\n",
      "\n",
      "# Reshape the data into a one-dimensional array with numpy\n",
      "testimage = numpy.reshape(testimage, -1)\n",
      "print(\"Reshaped data:\", testimage)\n",
      "\n",
      "# Full-colour images will have a range of 256 values, but we need a range of 16.\n",
      "testimage = testimage / 16\n",
      "print(\"Rescaled data:\", testimage)\n",
      "\n",
      "# clf.predict expects an array of images and returns a list of predicted values,\n",
      "# even if there's only one \n",
      "print(\"Predicted value:\", clf.predict([testimage]))"
     ],
     "language": "python",
     "metadata": {},
     "outputs": [
      {
       "output_type": "stream",
       "stream": "stdout",
       "text": [
        "Original image\n"
       ]
      },
      {
       "metadata": {},
       "output_type": "display_data",
       "png": "[encoded data removed]",
       "text": [
        "<matplotlib.figure.Figure at 0x7f4cc8fe8f98>"
       ]
      },
      {
       "output_type": "stream",
       "stream": "stdout",
       "text": [
        "Resized image\n"
       ]
      },
      {
       "metadata": {},
       "output_type": "display_data",
       "png": "[encoded data removed]",
       "text": [
        "<matplotlib.figure.Figure at 0x7f4cd7667c88>"
       ]
      },
      {
       "output_type": "stream",
       "stream": "stdout",
       "text": [
        "Raw data: [[  0  10  86 127 129 123  55   1]\n",
        " [  0  52 232 226 217 222 134   2]\n",
        " [  0  67 235  95  38  33  18   0]\n",
        " [  0  88 249 216 184  85   7   0]\n",
        " [  0  47 153 140 195 236  70   0]\n",
        " [  5  70  67  94 202 243  87   0]\n",
        " [ 15 175 235 232 179  85  14   0]\n",
        " [  1  34  84  66  16   0   0   0]]\n",
        "Reshaped data: [  0  10  86 127 129 123  55   1   0  52 232 226 217 222 134   2   0  67\n",
        " 235  95  38  33  18   0   0  88 249 216 184  85   7   0   0  47 153 140\n",
        " 195 236  70   0   5  70  67  94 202 243  87   0  15 175 235 232 179  85\n",
        "  14   0   1  34  84  66  16   0   0   0]\n",
        "Rescaled data: [  0.       0.625    5.375    7.9375   8.0625   7.6875   3.4375   0.0625\n",
        "   0.       3.25    14.5     14.125   13.5625  13.875    8.375    0.125\n",
        "   0.       4.1875  14.6875   5.9375   2.375    2.0625   1.125    0.       0.\n",
        "   5.5     15.5625  13.5     11.5      5.3125   0.4375   0.       0.\n",
        "   2.9375   9.5625   8.75    12.1875  14.75     4.375    0.       0.3125\n",
        "   4.375    4.1875   5.875   12.625   15.1875   5.4375   0.       0.9375\n",
        "  10.9375  14.6875  14.5     11.1875   5.3125   0.875    0.       0.0625\n",
        "   2.125    5.25     4.125    1.       0.       0.       0.    ]\n",
        "Predicted value: [5]\n"
       ]
      }
     ],
     "prompt_number": 9
    },
    {
     "cell_type": "markdown",
     "metadata": {},
     "source": [
      "How did you do?\n",
      "\n",
      "The code above outputs your data at various stages as it's being manipulated. We don't really need this, but when we're watching what's going on it's useful to see how the data changes."
     ]
    },
    {
     "cell_type": "heading",
     "level": 2,
     "metadata": {},
     "source": [
      "Finally, looking at the probabilities"
     ]
    },
    {
     "cell_type": "markdown",
     "metadata": {},
     "source": [
      "Do you remember that, much earlier, we set `probability=True` when creating the classifier? Let's see what it can tell us.\n",
      "\n",
      "The classifier will always give us an answer. But how certain was it of that answer? Was it very confident, or were there other options that were almost as likely and this was just barely the best of a few uncertain options?\n",
      "\n",
      "We can use [`predict_proba`](http://scikit-learn.org/stable/modules/generated/sklearn.svm.SVC.html#sklearn.svm.SVC.predict_proba) to get a list of probabilities for each classification (or digit, in our case). Using matplotlib this is really easy to graph. `clf.classes_` is a list of the classifications we've trained the system with (digits 0 to 9 here), and `predict_proba()` returns the list of probabilities for each classification. As with `predict()` it takes a list of inputs and returns a list of outputs. We only have one, so we take element 0 from the list. Done!\n",
      "\n",
      "A confident result will show a single spike at the given prediction and very low figures elsewhere, whereas an uncertain result will show a lot more variation."
     ]
    },
    {
     "cell_type": "code",
     "collapsed": false,
     "input": [
      "plt.plot(clf.classes_, clf.predict_proba([testimage])[0])"
     ],
     "language": "python",
     "metadata": {},
     "outputs": [
      {
       "metadata": {},
       "output_type": "pyout",
       "prompt_number": 10,
       "text": [
        "[<matplotlib.lines.Line2D at 0x7f4cd75909e8>]"
       ]
      },
      {
       "metadata": {},
       "output_type": "display_data",
       "png": "[encoded data removed]",
       "text": [
        "<matplotlib.figure.Figure at 0x7f4cecfcdf60>"
       ]
      }
     ],
     "prompt_number": 10
    },
    {
     "cell_type": "heading",
     "level": 2,
     "metadata": {},
     "source": [
      "What next?"
     ]
    },
    {
     "cell_type": "markdown",
     "metadata": {},
     "source": [
      "What else can we do? There are a few things you can do next to try to improve things."
     ]
    },
    {
     "cell_type": "heading",
     "level": 3,
     "metadata": {},
     "source": [
      "Use a larger training set"
     ]
    },
    {
     "cell_type": "markdown",
     "metadata": {},
     "source": [
      "There's a much larger set of digits available, called the [MNIST Database of Handwritten Digits](http://yann.lecun.com/exdb/mnist/). It has 60,000 training digits, and 10,000 test digits, and the digits are also larger, at 28\u00d728 pixels. You'll need to download the database yourself and manipulate it into the right format. This is a widely-used set and you can find lots of results online where people have worked to get the highest accuracy figures for the standard test set."
     ]
    },
    {
     "cell_type": "heading",
     "level": 3,
     "metadata": {},
     "source": [
      "Manipulate the images"
     ]
    },
    {
     "cell_type": "markdown",
     "metadata": {},
     "source": [
      "Since these are handwritten digits, you'll often that people write similar digits, but rotated slightly. You could take the training set, rotate all the images slightly left, and train it with those additional images. Then rotate it slightly right and do the same.\n",
      "\n",
      "In the case of 8\u00d78 images rotating the images will probably result in a fairly poor-quality set of images (but it would be viable in the case of the 28\u00d728 MNIST images). For our example above where the user provides a single high-resolution image you could instead test the user's input three times, straight, rotated left and rotated right. Using the output of `predict_proba` you could select which of the three results gave the highest probability and select that as your prediction."
     ]
    },
    {
     "cell_type": "heading",
     "level": 3,
     "metadata": {},
     "source": [
      "Tweak the classifier"
     ]
    },
    {
     "cell_type": "markdown",
     "metadata": {},
     "source": [
      "The classifier has [quite a few options](http://scikit-learn.org/stable/modules/generated/sklearn.svm.SVC.html) you can tweak, especially `C` and `gamma`. Search through a selection of combinations to see which combination gives the best set of results for the test data. See http://scikit-learn.org/stable/auto_examples/svm/plot_rbf_parameters.html for an idea of how to approach this."
     ]
    }
   ],
   "metadata": {}
  }
 ]
}